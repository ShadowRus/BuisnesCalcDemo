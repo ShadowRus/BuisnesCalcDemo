{
 "cells": [
  {
   "cell_type": "code",
   "execution_count": 1,
   "id": "08d9a8c0",
   "metadata": {},
   "outputs": [],
   "source": [
    "import pandas as pd"
   ]
  },
  {
   "cell_type": "code",
   "execution_count": 3,
   "id": "a25eec94",
   "metadata": {},
   "outputs": [
    {
     "data": {
      "text/html": [
       "<div>\n",
       "<style scoped>\n",
       "    .dataframe tbody tr th:only-of-type {\n",
       "        vertical-align: middle;\n",
       "    }\n",
       "\n",
       "    .dataframe tbody tr th {\n",
       "        vertical-align: top;\n",
       "    }\n",
       "\n",
       "    .dataframe thead th {\n",
       "        text-align: right;\n",
       "    }\n",
       "</style>\n",
       "<table border=\"1\" class=\"dataframe\">\n",
       "  <thead>\n",
       "    <tr style=\"text-align: right;\">\n",
       "      <th></th>\n",
       "      <th>Продуктовое направление</th>\n",
       "      <th>Товарная группа</th>\n",
       "      <th>1Q — П</th>\n",
       "      <th>2Q — П</th>\n",
       "      <th>3Q — П</th>\n",
       "      <th>4Q — П</th>\n",
       "      <th>Total- П</th>\n",
       "      <th>1Q — ПП</th>\n",
       "      <th>2Q- ПП</th>\n",
       "      <th>3Q — ПП</th>\n",
       "      <th>4Q — ПП</th>\n",
       "      <th>Total — ПП</th>\n",
       "      <th>1Q — Д</th>\n",
       "      <th>2Q — Д</th>\n",
       "      <th>3Q — Д</th>\n",
       "      <th>4Q — Д</th>\n",
       "      <th>Total — Д</th>\n",
       "    </tr>\n",
       "  </thead>\n",
       "  <tbody>\n",
       "    <tr>\n",
       "      <th>0</th>\n",
       "      <td>Retail</td>\n",
       "      <td>Фискальные регистраторы</td>\n",
       "      <td>45</td>\n",
       "      <td>50</td>\n",
       "      <td>50</td>\n",
       "      <td>55</td>\n",
       "      <td>200</td>\n",
       "      <td>250</td>\n",
       "      <td>270</td>\n",
       "      <td>260</td>\n",
       "      <td>290</td>\n",
       "      <td>1070</td>\n",
       "      <td>850</td>\n",
       "      <td>900</td>\n",
       "      <td>850</td>\n",
       "      <td>1000</td>\n",
       "      <td>3600</td>\n",
       "    </tr>\n",
       "    <tr>\n",
       "      <th>1</th>\n",
       "      <td>Retail</td>\n",
       "      <td>АТОЛ Connect1</td>\n",
       "      <td>90</td>\n",
       "      <td>40</td>\n",
       "      <td>80</td>\n",
       "      <td>60</td>\n",
       "      <td>270</td>\n",
       "      <td>370</td>\n",
       "      <td>180</td>\n",
       "      <td>300</td>\n",
       "      <td>230</td>\n",
       "      <td>1080</td>\n",
       "      <td>300</td>\n",
       "      <td>160</td>\n",
       "      <td>280</td>\n",
       "      <td>200</td>\n",
       "      <td>940</td>\n",
       "    </tr>\n",
       "    <tr>\n",
       "      <th>2</th>\n",
       "      <td>Retail</td>\n",
       "      <td>Frontol 6 + Frontol xPOS</td>\n",
       "      <td>10</td>\n",
       "      <td>20</td>\n",
       "      <td>15</td>\n",
       "      <td>20</td>\n",
       "      <td>65</td>\n",
       "      <td>30</td>\n",
       "      <td>35</td>\n",
       "      <td>40</td>\n",
       "      <td>40</td>\n",
       "      <td>145</td>\n",
       "      <td>35</td>\n",
       "      <td>45</td>\n",
       "      <td>40</td>\n",
       "      <td>50</td>\n",
       "      <td>170</td>\n",
       "    </tr>\n",
       "    <tr>\n",
       "      <th>3</th>\n",
       "      <td>Retail</td>\n",
       "      <td>Frontol Release Pack 6/xPos 1 год</td>\n",
       "      <td>15</td>\n",
       "      <td>25</td>\n",
       "      <td>30</td>\n",
       "      <td>35</td>\n",
       "      <td>105</td>\n",
       "      <td>30</td>\n",
       "      <td>65</td>\n",
       "      <td>80</td>\n",
       "      <td>90</td>\n",
       "      <td>265</td>\n",
       "      <td>40</td>\n",
       "      <td>80</td>\n",
       "      <td>100</td>\n",
       "      <td>115</td>\n",
       "      <td>335</td>\n",
       "    </tr>\n",
       "    <tr>\n",
       "      <th>4</th>\n",
       "      <td>SIGMA</td>\n",
       "      <td>Смарт-терминалы АТОЛ SIGMA</td>\n",
       "      <td>15</td>\n",
       "      <td>25</td>\n",
       "      <td>35</td>\n",
       "      <td>70</td>\n",
       "      <td>145</td>\n",
       "      <td>40</td>\n",
       "      <td>70</td>\n",
       "      <td>100</td>\n",
       "      <td>190</td>\n",
       "      <td>400</td>\n",
       "      <td>110</td>\n",
       "      <td>180</td>\n",
       "      <td>240</td>\n",
       "      <td>470</td>\n",
       "      <td>1000</td>\n",
       "    </tr>\n",
       "    <tr>\n",
       "      <th>5</th>\n",
       "      <td>Девайс</td>\n",
       "      <td>Принтеры ШК</td>\n",
       "      <td>10</td>\n",
       "      <td>15</td>\n",
       "      <td>15</td>\n",
       "      <td>10</td>\n",
       "      <td>50</td>\n",
       "      <td>15</td>\n",
       "      <td>20</td>\n",
       "      <td>20</td>\n",
       "      <td>20</td>\n",
       "      <td>75</td>\n",
       "      <td>35</td>\n",
       "      <td>50</td>\n",
       "      <td>55</td>\n",
       "      <td>45</td>\n",
       "      <td>185</td>\n",
       "    </tr>\n",
       "    <tr>\n",
       "      <th>6</th>\n",
       "      <td>Девайс</td>\n",
       "      <td>Сканеры ШК</td>\n",
       "      <td>20</td>\n",
       "      <td>20</td>\n",
       "      <td>15</td>\n",
       "      <td>15</td>\n",
       "      <td>70</td>\n",
       "      <td>100</td>\n",
       "      <td>110</td>\n",
       "      <td>80</td>\n",
       "      <td>80</td>\n",
       "      <td>370</td>\n",
       "      <td>170</td>\n",
       "      <td>180</td>\n",
       "      <td>150</td>\n",
       "      <td>150</td>\n",
       "      <td>650</td>\n",
       "    </tr>\n",
       "    <tr>\n",
       "      <th>7</th>\n",
       "      <td>Девайс</td>\n",
       "      <td>Весы</td>\n",
       "      <td>3</td>\n",
       "      <td>5</td>\n",
       "      <td>5</td>\n",
       "      <td>3</td>\n",
       "      <td>16</td>\n",
       "      <td>9</td>\n",
       "      <td>15</td>\n",
       "      <td>15</td>\n",
       "      <td>11</td>\n",
       "      <td>50</td>\n",
       "      <td>15</td>\n",
       "      <td>30</td>\n",
       "      <td>30</td>\n",
       "      <td>20</td>\n",
       "      <td>95</td>\n",
       "    </tr>\n",
       "    <tr>\n",
       "      <th>8</th>\n",
       "      <td>Девайс</td>\n",
       "      <td>POS-периферия</td>\n",
       "      <td>25</td>\n",
       "      <td>30</td>\n",
       "      <td>35</td>\n",
       "      <td>40</td>\n",
       "      <td>130</td>\n",
       "      <td>90</td>\n",
       "      <td>100</td>\n",
       "      <td>110</td>\n",
       "      <td>120</td>\n",
       "      <td>420</td>\n",
       "      <td>300</td>\n",
       "      <td>350</td>\n",
       "      <td>400</td>\n",
       "      <td>450</td>\n",
       "      <td>1500</td>\n",
       "    </tr>\n",
       "    <tr>\n",
       "      <th>9</th>\n",
       "      <td>Мобильные решения</td>\n",
       "      <td>Терминалы сбора данных</td>\n",
       "      <td>15</td>\n",
       "      <td>30</td>\n",
       "      <td>25</td>\n",
       "      <td>30</td>\n",
       "      <td>100</td>\n",
       "      <td>50</td>\n",
       "      <td>100</td>\n",
       "      <td>90</td>\n",
       "      <td>110</td>\n",
       "      <td>350</td>\n",
       "      <td>150</td>\n",
       "      <td>180</td>\n",
       "      <td>170</td>\n",
       "      <td>200</td>\n",
       "      <td>700</td>\n",
       "    </tr>\n",
       "    <tr>\n",
       "      <th>10</th>\n",
       "      <td>Мобильные решения</td>\n",
       "      <td>ПО MarkScan</td>\n",
       "      <td>0</td>\n",
       "      <td>10</td>\n",
       "      <td>5</td>\n",
       "      <td>10</td>\n",
       "      <td>25</td>\n",
       "      <td>0</td>\n",
       "      <td>20</td>\n",
       "      <td>15</td>\n",
       "      <td>25</td>\n",
       "      <td>60</td>\n",
       "      <td>0</td>\n",
       "      <td>15</td>\n",
       "      <td>10</td>\n",
       "      <td>20</td>\n",
       "      <td>45</td>\n",
       "    </tr>\n",
       "  </tbody>\n",
       "</table>\n",
       "</div>"
      ],
      "text/plain": [
       "   Продуктовое направление                    Товарная группа  1Q — П  \\\n",
       "0                   Retail            Фискальные регистраторы      45   \n",
       "1                   Retail                      АТОЛ Connect1      90   \n",
       "2                   Retail           Frontol 6 + Frontol xPOS      10   \n",
       "3                   Retail  Frontol Release Pack 6/xPos 1 год      15   \n",
       "4                    SIGMA         Смарт-терминалы АТОЛ SIGMA      15   \n",
       "5                   Девайс                        Принтеры ШК      10   \n",
       "6                   Девайс                         Сканеры ШК      20   \n",
       "7                   Девайс                               Весы       3   \n",
       "8                   Девайс                      POS-периферия      25   \n",
       "9        Мобильные решения             Терминалы сбора данных      15   \n",
       "10       Мобильные решения                        ПО MarkScan       0   \n",
       "\n",
       "    2Q — П   3Q — П  4Q — П  Total- П  1Q — ПП  2Q- ПП  3Q — ПП  4Q — ПП  \\\n",
       "0        50      50      55       200      250     270      260      290   \n",
       "1        40      80      60       270      370     180      300      230   \n",
       "2        20      15      20        65       30      35       40       40   \n",
       "3        25      30      35       105       30      65       80       90   \n",
       "4        25      35      70       145       40      70      100      190   \n",
       "5        15      15      10        50       15      20       20       20   \n",
       "6        20      15      15        70      100     110       80       80   \n",
       "7         5       5       3        16        9      15       15       11   \n",
       "8        30      35      40       130       90     100      110      120   \n",
       "9        30      25      30       100       50     100       90      110   \n",
       "10       10       5      10        25        0      20       15       25   \n",
       "\n",
       "    Total — ПП  1Q — Д  2Q — Д  3Q — Д  4Q — Д  Total — Д  \n",
       "0         1070     850     900     850    1000       3600  \n",
       "1         1080     300     160     280     200        940  \n",
       "2          145      35      45      40      50        170  \n",
       "3          265      40      80     100     115        335  \n",
       "4          400     110     180     240     470       1000  \n",
       "5           75      35      50      55      45        185  \n",
       "6          370     170     180     150     150        650  \n",
       "7           50      15      30      30      20         95  \n",
       "8          420     300     350     400     450       1500  \n",
       "9          350     150     180     170     200        700  \n",
       "10          60       0      15      10      20         45  "
      ]
     },
     "execution_count": 3,
     "metadata": {},
     "output_type": "execute_result"
    }
   ],
   "source": [
    "pd.read_csv('buisnes-roadmap.csv')"
   ]
  },
  {
   "cell_type": "code",
   "execution_count": 4,
   "id": "9a46cd25",
   "metadata": {},
   "outputs": [],
   "source": [
    "df = pd.read_csv('buisnes-roadmap.csv')"
   ]
  },
  {
   "cell_type": "code",
   "execution_count": 8,
   "id": "504ab626",
   "metadata": {},
   "outputs": [
    {
     "data": {
      "text/html": [
       "<div>\n",
       "<style scoped>\n",
       "    .dataframe tbody tr th:only-of-type {\n",
       "        vertical-align: middle;\n",
       "    }\n",
       "\n",
       "    .dataframe tbody tr th {\n",
       "        vertical-align: top;\n",
       "    }\n",
       "\n",
       "    .dataframe thead th {\n",
       "        text-align: right;\n",
       "    }\n",
       "</style>\n",
       "<table border=\"1\" class=\"dataframe\">\n",
       "  <thead>\n",
       "    <tr style=\"text-align: right;\">\n",
       "      <th></th>\n",
       "      <th>Продуктовое направление</th>\n",
       "      <th>Товарная группа</th>\n",
       "      <th>1Q — П</th>\n",
       "      <th>2Q — П</th>\n",
       "      <th>3Q — П</th>\n",
       "      <th>4Q — П</th>\n",
       "      <th>Total- П</th>\n",
       "      <th>1Q — ПП</th>\n",
       "      <th>2Q- ПП</th>\n",
       "      <th>3Q — ПП</th>\n",
       "      <th>4Q — ПП</th>\n",
       "      <th>Total — ПП</th>\n",
       "      <th>1Q — Д</th>\n",
       "      <th>2Q — Д</th>\n",
       "      <th>3Q — Д</th>\n",
       "      <th>4Q — Д</th>\n",
       "      <th>Total — Д</th>\n",
       "    </tr>\n",
       "  </thead>\n",
       "  <tbody>\n",
       "    <tr>\n",
       "      <th>9</th>\n",
       "      <td>Мобильные решения</td>\n",
       "      <td>Терминалы сбора данных</td>\n",
       "      <td>15</td>\n",
       "      <td>30</td>\n",
       "      <td>25</td>\n",
       "      <td>30</td>\n",
       "      <td>100</td>\n",
       "      <td>50</td>\n",
       "      <td>100</td>\n",
       "      <td>90</td>\n",
       "      <td>110</td>\n",
       "      <td>350</td>\n",
       "      <td>150</td>\n",
       "      <td>180</td>\n",
       "      <td>170</td>\n",
       "      <td>200</td>\n",
       "      <td>700</td>\n",
       "    </tr>\n",
       "    <tr>\n",
       "      <th>10</th>\n",
       "      <td>Мобильные решения</td>\n",
       "      <td>ПО MarkScan</td>\n",
       "      <td>0</td>\n",
       "      <td>10</td>\n",
       "      <td>5</td>\n",
       "      <td>10</td>\n",
       "      <td>25</td>\n",
       "      <td>0</td>\n",
       "      <td>20</td>\n",
       "      <td>15</td>\n",
       "      <td>25</td>\n",
       "      <td>60</td>\n",
       "      <td>0</td>\n",
       "      <td>15</td>\n",
       "      <td>10</td>\n",
       "      <td>20</td>\n",
       "      <td>45</td>\n",
       "    </tr>\n",
       "  </tbody>\n",
       "</table>\n",
       "</div>"
      ],
      "text/plain": [
       "   Продуктовое направление         Товарная группа  1Q — П  2Q — П   3Q — П  \\\n",
       "9        Мобильные решения  Терминалы сбора данных      15       30      25   \n",
       "10       Мобильные решения             ПО MarkScan       0       10       5   \n",
       "\n",
       "    4Q — П  Total- П  1Q — ПП  2Q- ПП  3Q — ПП  4Q — ПП  Total — ПП  1Q — Д  \\\n",
       "9       30       100       50     100       90      110         350     150   \n",
       "10      10        25        0      20       15       25          60       0   \n",
       "\n",
       "    2Q — Д  3Q — Д  4Q — Д  Total — Д  \n",
       "9      180     170     200        700  \n",
       "10      15      10      20         45  "
      ]
     },
     "execution_count": 8,
     "metadata": {},
     "output_type": "execute_result"
    }
   ],
   "source": [
    "df[df[\"Продуктовое направление\"]== 'Мобильные решения']"
   ]
  },
  {
   "cell_type": "code",
   "execution_count": 9,
   "id": "12e82f8d",
   "metadata": {},
   "outputs": [
    {
     "data": {
      "text/plain": [
       "(11, 17)"
      ]
     },
     "execution_count": 9,
     "metadata": {},
     "output_type": "execute_result"
    }
   ],
   "source": [
    " df.shape "
   ]
  },
  {
   "cell_type": "code",
   "execution_count": 20,
   "id": "e3de8733",
   "metadata": {},
   "outputs": [
    {
     "data": {
      "text/plain": [
       "'SIGMA'"
      ]
     },
     "execution_count": 20,
     "metadata": {},
     "output_type": "execute_result"
    }
   ],
   "source": [
    "df.iloc[4,0]"
   ]
  },
  {
   "cell_type": "code",
   "execution_count": 21,
   "id": "d15495b5",
   "metadata": {},
   "outputs": [
    {
     "data": {
      "text/plain": [
       "Index(['Продуктовое направление', 'Товарная группа', '1Q — П', '2Q — П ',\n",
       "       '3Q — П', '4Q — П', 'Total- П', '1Q — ПП', '2Q- ПП', '3Q — ПП',\n",
       "       '4Q — ПП', 'Total — ПП', '1Q — Д', '2Q — Д', '3Q — Д', '4Q — Д',\n",
       "       'Total — Д'],\n",
       "      dtype='object')"
      ]
     },
     "execution_count": 21,
     "metadata": {},
     "output_type": "execute_result"
    }
   ],
   "source": [
    "df.columns"
   ]
  },
  {
   "cell_type": "code",
   "execution_count": 23,
   "id": "90f996ec",
   "metadata": {},
   "outputs": [],
   "source": [
    "di=df.columns"
   ]
  },
  {
   "cell_type": "code",
   "execution_count": 24,
   "id": "af89b93c",
   "metadata": {},
   "outputs": [
    {
     "data": {
      "text/plain": [
       "'Товарная группа'"
      ]
     },
     "execution_count": 24,
     "metadata": {},
     "output_type": "execute_result"
    }
   ],
   "source": [
    "di[1]"
   ]
  },
  {
   "cell_type": "code",
   "execution_count": 29,
   "id": "cd972062",
   "metadata": {},
   "outputs": [
    {
     "data": {
      "text/plain": [
       "Index(['1Q — П', '2Q — П ', '3Q — П', '4Q — П', 'Total- П'], dtype='object')"
      ]
     },
     "execution_count": 29,
     "metadata": {},
     "output_type": "execute_result"
    }
   ],
   "source": [
    "di[2:7]"
   ]
  },
  {
   "cell_type": "code",
   "execution_count": 46,
   "id": "0e417db8",
   "metadata": {},
   "outputs": [
    {
     "data": {
      "text/plain": [
       "Index(['1Q — ПП', '2Q- ПП', '3Q — ПП', '4Q — ПП', 'Total — ПП'], dtype='object')"
      ]
     },
     "execution_count": 46,
     "metadata": {},
     "output_type": "execute_result"
    }
   ],
   "source": [
    "di[7:12]"
   ]
  },
  {
   "cell_type": "code",
   "execution_count": 45,
   "id": "ce9810fd",
   "metadata": {},
   "outputs": [
    {
     "data": {
      "text/plain": [
       "Index(['1Q — Д', '2Q — Д', '3Q — Д', '4Q — Д', 'Total — Д'], dtype='object')"
      ]
     },
     "execution_count": 45,
     "metadata": {},
     "output_type": "execute_result"
    }
   ],
   "source": [
    "di[12:17]"
   ]
  },
  {
   "cell_type": "code",
   "execution_count": 44,
   "id": "644628b7",
   "metadata": {},
   "outputs": [
    {
     "data": {
      "text/html": [
       "<div>\n",
       "<style scoped>\n",
       "    .dataframe tbody tr th:only-of-type {\n",
       "        vertical-align: middle;\n",
       "    }\n",
       "\n",
       "    .dataframe tbody tr th {\n",
       "        vertical-align: top;\n",
       "    }\n",
       "\n",
       "    .dataframe thead th {\n",
       "        text-align: right;\n",
       "    }\n",
       "</style>\n",
       "<table border=\"1\" class=\"dataframe\">\n",
       "  <thead>\n",
       "    <tr style=\"text-align: right;\">\n",
       "      <th></th>\n",
       "      <th>1Q — Д</th>\n",
       "      <th>2Q — Д</th>\n",
       "      <th>3Q — Д</th>\n",
       "      <th>4Q — Д</th>\n",
       "      <th>Total — Д</th>\n",
       "    </tr>\n",
       "  </thead>\n",
       "  <tbody>\n",
       "    <tr>\n",
       "      <th>9</th>\n",
       "      <td>150</td>\n",
       "      <td>180</td>\n",
       "      <td>170</td>\n",
       "      <td>200</td>\n",
       "      <td>700</td>\n",
       "    </tr>\n",
       "    <tr>\n",
       "      <th>10</th>\n",
       "      <td>0</td>\n",
       "      <td>15</td>\n",
       "      <td>10</td>\n",
       "      <td>20</td>\n",
       "      <td>45</td>\n",
       "    </tr>\n",
       "  </tbody>\n",
       "</table>\n",
       "</div>"
      ],
      "text/plain": [
       "    1Q — Д  2Q — Д  3Q — Д  4Q — Д  Total — Д\n",
       "9      150     180     170     200        700\n",
       "10       0      15      10      20         45"
      ]
     },
     "execution_count": 44,
     "metadata": {},
     "output_type": "execute_result"
    }
   ],
   "source": [
    "df[df[\"Продуктовое направление\"]== 'Мобильные решения'].iloc[:,12:17]"
   ]
  },
  {
   "cell_type": "code",
   "execution_count": null,
   "id": "3282cff5",
   "metadata": {},
   "outputs": [],
   "source": []
  }
 ],
 "metadata": {
  "kernelspec": {
   "display_name": "Python 3 (ipykernel)",
   "language": "python",
   "name": "python3"
  },
  "language_info": {
   "codemirror_mode": {
    "name": "ipython",
    "version": 3
   },
   "file_extension": ".py",
   "mimetype": "text/x-python",
   "name": "python",
   "nbconvert_exporter": "python",
   "pygments_lexer": "ipython3",
   "version": "3.9.7"
  }
 },
 "nbformat": 4,
 "nbformat_minor": 5
}
