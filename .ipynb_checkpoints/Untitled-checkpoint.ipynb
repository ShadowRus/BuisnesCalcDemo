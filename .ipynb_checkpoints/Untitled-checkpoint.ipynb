{
 "cells": [
  {
   "cell_type": "code",
   "execution_count": 1,
   "id": "00782302",
   "metadata": {},
   "outputs": [],
   "source": [
    "import pandas as pd"
   ]
  },
  {
   "cell_type": "code",
   "execution_count": 29,
   "id": "facb9874",
   "metadata": {},
   "outputs": [],
   "source": [
    "df = pd.read_csv(\"PDA22-27_.csv\",sep=';', index_col = 'Year')"
   ]
  },
  {
   "cell_type": "code",
   "execution_count": 36,
   "id": "f0127170",
   "metadata": {},
   "outputs": [],
   "source": [
    "df1 = pd.read_csv(\"Soft22-27_.csv\",sep=';', index_col = 'Year')"
   ]
  },
  {
   "cell_type": "code",
   "execution_count": 35,
   "id": "1324be76",
   "metadata": {},
   "outputs": [
    {
     "data": {
      "text/html": [
       "<div>\n",
       "<style scoped>\n",
       "    .dataframe tbody tr th:only-of-type {\n",
       "        vertical-align: middle;\n",
       "    }\n",
       "\n",
       "    .dataframe tbody tr th {\n",
       "        vertical-align: top;\n",
       "    }\n",
       "\n",
       "    .dataframe thead th {\n",
       "        text-align: right;\n",
       "    }\n",
       "</style>\n",
       "<table border=\"1\" class=\"dataframe\">\n",
       "  <thead>\n",
       "    <tr style=\"text-align: right;\">\n",
       "      <th></th>\n",
       "      <th>D</th>\n",
       "    </tr>\n",
       "    <tr>\n",
       "      <th>Year</th>\n",
       "      <th></th>\n",
       "    </tr>\n",
       "  </thead>\n",
       "  <tbody>\n",
       "    <tr>\n",
       "      <th>2022</th>\n",
       "      <td>700</td>\n",
       "    </tr>\n",
       "    <tr>\n",
       "      <th>2023</th>\n",
       "      <td>840</td>\n",
       "    </tr>\n",
       "    <tr>\n",
       "      <th>2024</th>\n",
       "      <td>1008</td>\n",
       "    </tr>\n",
       "    <tr>\n",
       "      <th>2025</th>\n",
       "      <td>1209</td>\n",
       "    </tr>\n",
       "    <tr>\n",
       "      <th>2027</th>\n",
       "      <td>1450</td>\n",
       "    </tr>\n",
       "    <tr>\n",
       "      <th>2027</th>\n",
       "      <td>1740</td>\n",
       "    </tr>\n",
       "  </tbody>\n",
       "</table>\n",
       "</div>"
      ],
      "text/plain": [
       "         D\n",
       "Year      \n",
       "2022   700\n",
       "2023   840\n",
       "2024  1008\n",
       "2025  1209\n",
       "2027  1450\n",
       "2027  1740"
      ]
     },
     "execution_count": 35,
     "metadata": {},
     "output_type": "execute_result"
    }
   ],
   "source": [
    "df[['D']]"
   ]
  },
  {
   "cell_type": "code",
   "execution_count": 20,
   "id": "7f8e271b",
   "metadata": {},
   "outputs": [],
   "source": [
    "dict_status = {'Дистрибьютер', 'Премиум партнер', 'Партнер'}"
   ]
  },
  {
   "cell_type": "code",
   "execution_count": 27,
   "id": "fca362c8",
   "metadata": {},
   "outputs": [],
   "source": [
    "a=list(dict_status)"
   ]
  },
  {
   "cell_type": "code",
   "execution_count": 99,
   "id": "ff1f1e21",
   "metadata": {},
   "outputs": [],
   "source": [
    "a=df[['D']]"
   ]
  },
  {
   "cell_type": "code",
   "execution_count": 100,
   "id": "04c64de5",
   "metadata": {},
   "outputs": [],
   "source": [
    "b=df1[['D']]"
   ]
  },
  {
   "cell_type": "code",
   "execution_count": 101,
   "id": "8e76359e",
   "metadata": {},
   "outputs": [],
   "source": [
    "c=pd.concat([a,b],axis=1)"
   ]
  },
  {
   "cell_type": "code",
   "execution_count": 105,
   "id": "e8098f2c",
   "metadata": {},
   "outputs": [
    {
     "data": {
      "text/html": [
       "<div>\n",
       "<style scoped>\n",
       "    .dataframe tbody tr th:only-of-type {\n",
       "        vertical-align: middle;\n",
       "    }\n",
       "\n",
       "    .dataframe tbody tr th {\n",
       "        vertical-align: top;\n",
       "    }\n",
       "\n",
       "    .dataframe thead th {\n",
       "        text-align: right;\n",
       "    }\n",
       "</style>\n",
       "<table border=\"1\" class=\"dataframe\">\n",
       "  <thead>\n",
       "    <tr style=\"text-align: right;\">\n",
       "      <th></th>\n",
       "      <th>q</th>\n",
       "      <th>2</th>\n",
       "    </tr>\n",
       "    <tr>\n",
       "      <th>Year</th>\n",
       "      <th></th>\n",
       "      <th></th>\n",
       "    </tr>\n",
       "  </thead>\n",
       "  <tbody>\n",
       "    <tr>\n",
       "      <th>2022</th>\n",
       "      <td>700</td>\n",
       "      <td>45</td>\n",
       "    </tr>\n",
       "    <tr>\n",
       "      <th>2023</th>\n",
       "      <td>840</td>\n",
       "      <td>90</td>\n",
       "    </tr>\n",
       "    <tr>\n",
       "      <th>2024</th>\n",
       "      <td>1008</td>\n",
       "      <td>135</td>\n",
       "    </tr>\n",
       "    <tr>\n",
       "      <th>2025</th>\n",
       "      <td>1209</td>\n",
       "      <td>202</td>\n",
       "    </tr>\n",
       "    <tr>\n",
       "      <th>2027</th>\n",
       "      <td>1450</td>\n",
       "      <td>303</td>\n",
       "    </tr>\n",
       "    <tr>\n",
       "      <th>2027</th>\n",
       "      <td>1740</td>\n",
       "      <td>454</td>\n",
       "    </tr>\n",
       "  </tbody>\n",
       "</table>\n",
       "</div>"
      ],
      "text/plain": [
       "         q    2\n",
       "Year           \n",
       "2022   700   45\n",
       "2023   840   90\n",
       "2024  1008  135\n",
       "2025  1209  202\n",
       "2027  1450  303\n",
       "2027  1740  454"
      ]
     },
     "execution_count": 105,
     "metadata": {},
     "output_type": "execute_result"
    }
   ],
   "source": [
    "c"
   ]
  },
  {
   "cell_type": "code",
   "execution_count": 110,
   "id": "417a5955",
   "metadata": {},
   "outputs": [
    {
     "data": {
      "text/plain": [
       "Year\n",
       "2022     45\n",
       "2023     90\n",
       "2024    135\n",
       "2025    202\n",
       "2027    303\n",
       "2027    454\n",
       "Name: 2, dtype: int64"
      ]
     },
     "execution_count": 110,
     "metadata": {},
     "output_type": "execute_result"
    }
   ],
   "source": [
    "c.iloc[:,1]"
   ]
  },
  {
   "cell_type": "code",
   "execution_count": 104,
   "id": "12071a9e",
   "metadata": {},
   "outputs": [],
   "source": [
    "c.columns=ds"
   ]
  },
  {
   "cell_type": "code",
   "execution_count": 103,
   "id": "5ef3226e",
   "metadata": {},
   "outputs": [],
   "source": [
    "ds=list(['q','2'])"
   ]
  },
  {
   "cell_type": "code",
   "execution_count": 45,
   "id": "9e49d248",
   "metadata": {},
   "outputs": [],
   "source": [
    "c['LT']=c['SOFT']*0.25"
   ]
  },
  {
   "cell_type": "code",
   "execution_count": 47,
   "id": "1b06c228",
   "metadata": {},
   "outputs": [],
   "source": [
    "dict_status = {'Дистрибьютер':'D', 'Премиум партнер':'PP', 'Партнер':'P'}"
   ]
  },
  {
   "cell_type": "code",
   "execution_count": 49,
   "id": "e91e2a92",
   "metadata": {},
   "outputs": [
    {
     "data": {
      "text/plain": [
       "'D'"
      ]
     },
     "execution_count": 49,
     "metadata": {},
     "output_type": "execute_result"
    }
   ],
   "source": [
    "dict_status['Дистрибьютер']"
   ]
  },
  {
   "cell_type": "code",
   "execution_count": 60,
   "id": "a639b95b",
   "metadata": {},
   "outputs": [
    {
     "data": {
      "text/plain": [
       "'PP'"
      ]
     },
     "execution_count": 60,
     "metadata": {},
     "output_type": "execute_result"
    }
   ],
   "source": [
    "dict_status.get('Премиум партнер')"
   ]
  },
  {
   "cell_type": "code",
   "execution_count": 52,
   "id": "9aaf99f6",
   "metadata": {},
   "outputs": [
    {
     "data": {
      "text/plain": [
       "dict_values(['D', 'PP', 'P'])"
      ]
     },
     "execution_count": 52,
     "metadata": {},
     "output_type": "execute_result"
    }
   ],
   "source": [
    "dict_status.values()"
   ]
  },
  {
   "cell_type": "code",
   "execution_count": 61,
   "id": "58779394",
   "metadata": {},
   "outputs": [],
   "source": [
    "aw=list(dict_status.values())"
   ]
  },
  {
   "cell_type": "code",
   "execution_count": 64,
   "id": "d4ec0785",
   "metadata": {},
   "outputs": [
    {
     "data": {
      "text/plain": [
       "'D'"
      ]
     },
     "execution_count": 64,
     "metadata": {},
     "output_type": "execute_result"
    }
   ],
   "source": [
    "aw[0]"
   ]
  },
  {
   "cell_type": "code",
   "execution_count": 74,
   "id": "ffbf36cf",
   "metadata": {},
   "outputs": [],
   "source": [
    "product_direct_dict = {'Retail', 'SIGMA', 'Девайс', 'Мобильные решения'}\n",
    "product_direct_list = list(product_direct_dict)"
   ]
  },
  {
   "cell_type": "code",
   "execution_count": 75,
   "id": "35125e41",
   "metadata": {},
   "outputs": [
    {
     "data": {
      "text/plain": [
       "['Мобильные решения', 'SIGMA', 'Девайс', 'Retail']"
      ]
     },
     "execution_count": 75,
     "metadata": {},
     "output_type": "execute_result"
    }
   ],
   "source": [
    "product_direct_list"
   ]
  },
  {
   "cell_type": "code",
   "execution_count": 70,
   "id": "4b2fe182",
   "metadata": {},
   "outputs": [],
   "source": [
    "dict_AMS1 ={'Все','ТСД','ПО Mark.Scan'}"
   ]
  },
  {
   "cell_type": "code",
   "execution_count": 71,
   "id": "653dca5b",
   "metadata": {},
   "outputs": [],
   "source": [
    "list_AMS= list(dict_AMS1)"
   ]
  },
  {
   "cell_type": "code",
   "execution_count": 73,
   "id": "d307748a",
   "metadata": {},
   "outputs": [
    {
     "data": {
      "text/plain": [
       "['ПО Mark.Scan', 'Все', 'ТСД']"
      ]
     },
     "execution_count": 73,
     "metadata": {},
     "output_type": "execute_result"
    }
   ],
   "source": [
    "list_AMS"
   ]
  },
  {
   "cell_type": "code",
   "execution_count": 80,
   "id": "86342bed",
   "metadata": {},
   "outputs": [],
   "source": [
    "product_direct_list =  list(['Retail', 'SIGMA', 'Девайс', 'Мобильные решения'])"
   ]
  },
  {
   "cell_type": "code",
   "execution_count": 81,
   "id": "1de36998",
   "metadata": {},
   "outputs": [
    {
     "data": {
      "text/plain": [
       "['Retail', 'SIGMA', 'Девайс', 'Мобильные решения']"
      ]
     },
     "execution_count": 81,
     "metadata": {},
     "output_type": "execute_result"
    }
   ],
   "source": [
    "product_direct_list"
   ]
  },
  {
   "cell_type": "code",
   "execution_count": 89,
   "id": "2db66905",
   "metadata": {},
   "outputs": [],
   "source": [
    "a=5"
   ]
  },
  {
   "cell_type": "code",
   "execution_count": 90,
   "id": "6b8a3fef",
   "metadata": {},
   "outputs": [],
   "source": [
    "b=4"
   ]
  },
  {
   "cell_type": "code",
   "execution_count": 91,
   "id": "96ec50b2",
   "metadata": {},
   "outputs": [],
   "source": [
    "c=a+b"
   ]
  },
  {
   "cell_type": "code",
   "execution_count": 92,
   "id": "37d36b64",
   "metadata": {},
   "outputs": [
    {
     "data": {
      "text/plain": [
       "9"
      ]
     },
     "execution_count": 92,
     "metadata": {},
     "output_type": "execute_result"
    }
   ],
   "source": [
    "c"
   ]
  },
  {
   "cell_type": "code",
   "execution_count": null,
   "id": "a54425c7",
   "metadata": {},
   "outputs": [],
   "source": []
  }
 ],
 "metadata": {
  "kernelspec": {
   "display_name": "Python 3 (ipykernel)",
   "language": "python",
   "name": "python3"
  },
  "language_info": {
   "codemirror_mode": {
    "name": "ipython",
    "version": 3
   },
   "file_extension": ".py",
   "mimetype": "text/x-python",
   "name": "python",
   "nbconvert_exporter": "python",
   "pygments_lexer": "ipython3",
   "version": "3.9.7"
  }
 },
 "nbformat": 4,
 "nbformat_minor": 5
}
